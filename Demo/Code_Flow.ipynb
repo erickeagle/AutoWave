{
 "cells": [
  {
   "cell_type": "markdown",
   "id": "c30b84e7",
   "metadata": {},
   "source": [
    "## Code Flow"
   ]
  },
  {
   "cell_type": "code",
   "execution_count": 1,
   "id": "db79ecfa",
   "metadata": {},
   "outputs": [],
   "source": [
    "from AutoWave.DataLoad import gen_data_from_folder\n",
    "from AutoWave.Auto_Audio_Classification import Auto_Audio_Classification,select_FE"
   ]
  },
  {
   "cell_type": "code",
   "execution_count": 2,
   "id": "72e9875f",
   "metadata": {},
   "outputs": [
    {
     "name": "stderr",
     "output_type": "stream",
     "text": [
      "100%|██████████████████████████████████████████████████████████████████████████████████| 2/2 [00:00<00:00, 2000.14it/s]\n"
     ]
    }
   ],
   "source": [
    "dataset_dir = '../Test_Data/Test_Data_Binary/'\n",
    "data = gen_data_from_folder(dataset_dir,get_dataframe=True,label_folder=True)"
   ]
  },
  {
   "cell_type": "code",
   "execution_count": 3,
   "id": "1d28bbe3",
   "metadata": {},
   "outputs": [],
   "source": [
    "model = Auto_Audio_Classification(test_size=0.2,inference=False,label_encoding=True,result_dataframe=False,aug_data=False)"
   ]
  },
  {
   "cell_type": "code",
   "execution_count": 4,
   "id": "ee707ae4",
   "metadata": {},
   "outputs": [
    {
     "name": "stderr",
     "output_type": "stream",
     "text": [
      "100%|██████████████████████████████████████████████████████████████████████████████████| 20/20 [00:02<00:00,  9.45it/s]\n",
      "100%|██████████████████████████████████████████████████████████████████████████████████| 27/27 [00:01<00:00, 18.36it/s]"
     ]
    },
    {
     "name": "stdout",
     "output_type": "stream",
     "text": [
      "'=================================================================='\n",
      "'Best Model Sorted By Accurcy'\n",
      "'=================================================================='\n",
      "                            Model  Acuracy  Sensitivity  Precision   F-Score  \\\n",
      "0              AdaBoostClassifier      1.0          1.0       1.00  1.000000   \n",
      "1              LogisticRegression      1.0          1.0       1.00  1.000000   \n",
      "2                   XGBClassifier      1.0          1.0       1.00  1.000000   \n",
      "3                             SVC      1.0          1.0       1.00  1.000000   \n",
      "4                   SGDClassifier      1.0          1.0       1.00  1.000000   \n",
      "5               RidgeClassifierCV      1.0          1.0       1.00  1.000000   \n",
      "6                 RidgeClassifier      1.0          1.0       1.00  1.000000   \n",
      "7          RandomForestClassifier      1.0          1.0       1.00  1.000000   \n",
      "8   QuadraticDiscriminantAnalysis      1.0          1.0       1.00  1.000000   \n",
      "9                      Perceptron      1.0          1.0       1.00  1.000000   \n",
      "10    PassiveAggressiveClassifier      1.0          1.0       1.00  1.000000   \n",
      "11                          NuSVC      1.0          1.0       1.00  1.000000   \n",
      "12                NearestCentroid      1.0          1.0       1.00  1.000000   \n",
      "13                      LinearSVC      1.0          1.0       1.00  1.000000   \n",
      "14              BaggingClassifier      1.0          1.0       1.00  1.000000   \n",
      "15     LinearDiscriminantAnalysis      1.0          1.0       1.00  1.000000   \n",
      "16                 LabelSpreading      1.0          1.0       1.00  1.000000   \n",
      "17               LabelPropagation      1.0          1.0       1.00  1.000000   \n",
      "18           KNeighborsClassifier      1.0          1.0       1.00  1.000000   \n",
      "19                     GaussianNB      1.0          1.0       1.00  1.000000   \n",
      "20           ExtraTreesClassifier      1.0          1.0       1.00  1.000000   \n",
      "21            ExtraTreeClassifier      1.0          1.0       1.00  1.000000   \n",
      "22         DecisionTreeClassifier      1.0          1.0       1.00  1.000000   \n",
      "23         CalibratedClassifierCV      1.0          1.0       1.00  1.000000   \n",
      "24                  CategoricalNB      0.5          0.5       0.25  0.333333   \n",
      "25                    BernoulliNB      0.5          0.5       0.25  0.333333   \n",
      "26                 LGBMClassifier      0.5          0.5       0.25  0.333333   \n",
      "\n",
      "    ROC_AUC      Time  \n",
      "0       1.0  0.005023  \n",
      "1       1.0  0.006023  \n",
      "2       1.0  1.104862  \n",
      "3       1.0  0.002992  \n",
      "4       1.0  0.003987  \n",
      "5       1.0  0.004988  \n",
      "6       1.0  0.005984  \n",
      "7       1.0  0.119647  \n",
      "8       1.0  0.001998  \n",
      "9       1.0  0.002987  \n",
      "10      1.0  0.003988  \n",
      "11      1.0  0.001995  \n",
      "12      1.0  0.003986  \n",
      "13      1.0  0.002958  \n",
      "14      1.0  0.017950  \n",
      "15      1.0  0.004022  \n",
      "16      1.0  0.003992  \n",
      "17      1.0  0.003989  \n",
      "18      1.0  0.004986  \n",
      "19      1.0  0.004987  \n",
      "20      1.0  0.113659  \n",
      "21      1.0  0.002993  \n",
      "22      1.0  0.001997  \n",
      "23      1.0  0.012965  \n",
      "24      0.5  0.005977  \n",
      "25      0.5  0.003997  \n",
      "26      0.5  0.015958  \n"
     ]
    },
    {
     "name": "stderr",
     "output_type": "stream",
     "text": [
      "\n"
     ]
    }
   ],
   "source": [
    "model.fit(data)"
   ]
  },
  {
   "cell_type": "code",
   "execution_count": 9,
   "id": "f7e3a090",
   "metadata": {},
   "outputs": [],
   "source": [
    "audio_file = '../Test_Data/Test_Data_Binary//air_conditioner/100852-0-0-0.wav'\n",
    "model.predict(audio_file)"
   ]
  }
 ],
 "metadata": {
  "kernelspec": {
   "display_name": "Python 3",
   "language": "python",
   "name": "python3"
  },
  "language_info": {
   "codemirror_mode": {
    "name": "ipython",
    "version": 3
   },
   "file_extension": ".py",
   "mimetype": "text/x-python",
   "name": "python",
   "nbconvert_exporter": "python",
   "pygments_lexer": "ipython3",
   "version": "3.8.9"
  }
 },
 "nbformat": 4,
 "nbformat_minor": 5
}
